{
  "cells": [
    {
      "cell_type": "markdown",
      "metadata": {
        "id": "view-in-github",
        "colab_type": "text"
      },
      "source": [
        "<a href=\"https://colab.research.google.com/github/shawakash/Ml-Projects/blob/Pytorch/00_pytorch_basic_functions.ipynb\" target=\"_parent\"><img src=\"https://colab.research.google.com/assets/colab-badge.svg\" alt=\"Open In Colab\"/></a>"
      ]
    },
    {
      "cell_type": "code",
      "execution_count": null,
      "metadata": {
        "colab": {
          "base_uri": "https://localhost:8080/"
        },
        "id": "ihrN04HNKnU_",
        "outputId": "cad3b340-6f32-4175-bcf0-bf35309a5571"
      },
      "outputs": [
        {
          "name": "stdout",
          "output_type": "stream",
          "text": [
            "Hello, pytorch\n"
          ]
        }
      ],
      "source": [
        "print(\"Hello, pytorch\")"
      ]
    },
    {
      "cell_type": "code",
      "execution_count": null,
      "metadata": {
        "colab": {
          "base_uri": "https://localhost:8080/"
        },
        "id": "kuHyXt3_Kxzj",
        "outputId": "a9ad81d8-dad3-41b2-aa4e-0dcb8953ff92"
      },
      "outputs": [
        {
          "name": "stdout",
          "output_type": "stream",
          "text": [
            "Mon Jul 24 13:52:56 2023       \n",
            "+-----------------------------------------------------------------------------+\n",
            "| NVIDIA-SMI 525.105.17   Driver Version: 525.105.17   CUDA Version: 12.0     |\n",
            "|-------------------------------+----------------------+----------------------+\n",
            "| GPU  Name        Persistence-M| Bus-Id        Disp.A | Volatile Uncorr. ECC |\n",
            "| Fan  Temp  Perf  Pwr:Usage/Cap|         Memory-Usage | GPU-Util  Compute M. |\n",
            "|                               |                      |               MIG M. |\n",
            "|===============================+======================+======================|\n",
            "|   0  Tesla T4            Off  | 00000000:00:04.0 Off |                    0 |\n",
            "| N/A   49C    P8     9W /  70W |      0MiB / 15360MiB |      0%      Default |\n",
            "|                               |                      |                  N/A |\n",
            "+-------------------------------+----------------------+----------------------+\n",
            "                                                                               \n",
            "+-----------------------------------------------------------------------------+\n",
            "| Processes:                                                                  |\n",
            "|  GPU   GI   CI        PID   Type   Process name                  GPU Memory |\n",
            "|        ID   ID                                                   Usage      |\n",
            "|=============================================================================|\n",
            "|  No running processes found                                                 |\n",
            "+-----------------------------------------------------------------------------+\n"
          ]
        }
      ],
      "source": [
        "!nvidia-smi"
      ]
    },
    {
      "cell_type": "code",
      "execution_count": null,
      "metadata": {
        "colab": {
          "base_uri": "https://localhost:8080/"
        },
        "id": "mLWOfP-8LGve",
        "outputId": "6885d3f9-3391-43f5-b7f2-11d14364f9c6"
      },
      "outputs": [
        {
          "name": "stdout",
          "output_type": "stream",
          "text": [
            "2.0.1+cu118\n"
          ]
        }
      ],
      "source": [
        "import torch\n",
        "print(torch.__version__)"
      ]
    },
    {
      "cell_type": "code",
      "execution_count": null,
      "metadata": {
        "colab": {
          "base_uri": "https://localhost:8080/"
        },
        "id": "yVIuy896OXTv",
        "outputId": "9d3e7406-85d0-4d54-dc3c-a7eeacf41814"
      },
      "outputs": [
        {
          "data": {
            "text/plain": [
              "tensor(1)"
            ]
          },
          "execution_count": 10,
          "metadata": {},
          "output_type": "execute_result"
        }
      ],
      "source": [
        "# Scalar Creation\n",
        "scalar = torch.tensor(1)\n",
        "scalar"
      ]
    },
    {
      "cell_type": "code",
      "execution_count": null,
      "metadata": {
        "colab": {
          "base_uri": "https://localhost:8080/"
        },
        "id": "h_XXSdyUOgjq",
        "outputId": "6716f10e-9eea-4d8c-b2ef-bc7cf3f35376"
      },
      "outputs": [
        {
          "data": {
            "text/plain": [
              "0"
            ]
          },
          "execution_count": 11,
          "metadata": {},
          "output_type": "execute_result"
        }
      ],
      "source": [
        "scalar.ndim"
      ]
    },
    {
      "cell_type": "code",
      "execution_count": null,
      "metadata": {
        "colab": {
          "base_uri": "https://localhost:8080/"
        },
        "id": "T_4diY0-Okil",
        "outputId": "bf75b503-722f-4022-fbcc-d8c39785e525"
      },
      "outputs": [
        {
          "data": {
            "text/plain": [
              "1"
            ]
          },
          "execution_count": 12,
          "metadata": {},
          "output_type": "execute_result"
        }
      ],
      "source": [
        "scalar.item()"
      ]
    },
    {
      "cell_type": "code",
      "execution_count": null,
      "metadata": {
        "id": "zKq5iG5EP1ED"
      },
      "outputs": [],
      "source": [
        "scalar = torch.tensor(68)"
      ]
    },
    {
      "cell_type": "code",
      "execution_count": null,
      "metadata": {
        "colab": {
          "base_uri": "https://localhost:8080/"
        },
        "id": "p5BU3HU8QFl3",
        "outputId": "9452dbea-f56e-4e42-de9e-5603a71f624c"
      },
      "outputs": [
        {
          "data": {
            "text/plain": [
              "tensor(68)"
            ]
          },
          "execution_count": 17,
          "metadata": {},
          "output_type": "execute_result"
        }
      ],
      "source": [
        "scalar"
      ]
    },
    {
      "cell_type": "code",
      "execution_count": null,
      "metadata": {
        "colab": {
          "base_uri": "https://localhost:8080/"
        },
        "id": "mbpn3RpkQHzz",
        "outputId": "5dc1f0b2-1dd8-4f0a-f2bc-b26b847daad0"
      },
      "outputs": [
        {
          "data": {
            "text/plain": [
              "0"
            ]
          },
          "execution_count": 18,
          "metadata": {},
          "output_type": "execute_result"
        }
      ],
      "source": [
        "scalar.ndim"
      ]
    },
    {
      "cell_type": "code",
      "execution_count": null,
      "metadata": {
        "colab": {
          "base_uri": "https://localhost:8080/"
        },
        "id": "ZN2XCFlORZ3E",
        "outputId": "6143cb67-985d-44df-991f-536f303bb530"
      },
      "outputs": [
        {
          "data": {
            "text/plain": [
              "68"
            ]
          },
          "execution_count": 19,
          "metadata": {},
          "output_type": "execute_result"
        }
      ],
      "source": [
        "scalar.item()"
      ]
    },
    {
      "cell_type": "code",
      "execution_count": null,
      "metadata": {
        "colab": {
          "base_uri": "https://localhost:8080/"
        },
        "id": "T2pGw96ZRbh-",
        "outputId": "a34b1f95-1713-4308-d082-479e2661c763"
      },
      "outputs": [
        {
          "data": {
            "text/plain": [
              "tensor([23, 45])"
            ]
          },
          "execution_count": 20,
          "metadata": {},
          "output_type": "execute_result"
        }
      ],
      "source": [
        "vector = torch.tensor([23, 45])\n",
        "vector"
      ]
    },
    {
      "cell_type": "code",
      "execution_count": null,
      "metadata": {
        "colab": {
          "base_uri": "https://localhost:8080/"
        },
        "id": "NPHZErbERjlj",
        "outputId": "12a6d428-bb99-409e-dba6-24028a1594b7"
      },
      "outputs": [
        {
          "data": {
            "text/plain": [
              "1"
            ]
          },
          "execution_count": 21,
          "metadata": {},
          "output_type": "execute_result"
        }
      ],
      "source": [
        "vector.ndim"
      ]
    },
    {
      "cell_type": "code",
      "execution_count": null,
      "metadata": {
        "colab": {
          "base_uri": "https://localhost:8080/"
        },
        "id": "u5aQfibwRmP4",
        "outputId": "dc00d33b-c7c7-4e77-ae79-fbc02ddc0bfe"
      },
      "outputs": [
        {
          "data": {
            "text/plain": [
              "torch.Size([2])"
            ]
          },
          "execution_count": 24,
          "metadata": {},
          "output_type": "execute_result"
        }
      ],
      "source": [
        "vector.shape"
      ]
    },
    {
      "cell_type": "code",
      "execution_count": null,
      "metadata": {
        "id": "K4WwnsX3Rpto"
      },
      "outputs": [],
      "source": [
        "vector = torch.tensor([23, 23, 23])"
      ]
    },
    {
      "cell_type": "code",
      "execution_count": null,
      "metadata": {
        "colab": {
          "base_uri": "https://localhost:8080/"
        },
        "id": "v2vQcJvZSaUd",
        "outputId": "b5525426-e5be-40e0-c681-19c9aa6d4ef0"
      },
      "outputs": [
        {
          "data": {
            "text/plain": [
              "torch.Size([3])"
            ]
          },
          "execution_count": 26,
          "metadata": {},
          "output_type": "execute_result"
        }
      ],
      "source": [
        "vector.shape"
      ]
    },
    {
      "cell_type": "code",
      "execution_count": null,
      "metadata": {
        "colab": {
          "base_uri": "https://localhost:8080/"
        },
        "id": "9NX9hW_SSdCX",
        "outputId": "00e2d906-f498-4b19-c506-89e39980b036"
      },
      "outputs": [
        {
          "data": {
            "text/plain": [
              "tensor([[1, 2, 3],\n",
              "        [4, 5, 6],\n",
              "        [7, 8, 9]])"
            ]
          },
          "execution_count": 27,
          "metadata": {},
          "output_type": "execute_result"
        }
      ],
      "source": [
        "matrix = torch.tensor([[1, 2, 3], [4, 5, 6], [7, 8, 9]])\n",
        "matrix"
      ]
    },
    {
      "cell_type": "code",
      "execution_count": null,
      "metadata": {
        "colab": {
          "base_uri": "https://localhost:8080/"
        },
        "id": "Cnb41xC4SsZ9",
        "outputId": "e1b71d16-cec6-41e3-84e9-076f600f08d6"
      },
      "outputs": [
        {
          "data": {
            "text/plain": [
              "torch.Size([3, 3])"
            ]
          },
          "execution_count": 28,
          "metadata": {},
          "output_type": "execute_result"
        }
      ],
      "source": [
        "matrix.shape"
      ]
    },
    {
      "cell_type": "code",
      "execution_count": null,
      "metadata": {
        "colab": {
          "base_uri": "https://localhost:8080/"
        },
        "id": "tDgQHZ9fSv3i",
        "outputId": "da9bf68a-78f0-4068-bcb2-d79ea1933f41"
      },
      "outputs": [
        {
          "data": {
            "text/plain": [
              "2"
            ]
          },
          "execution_count": 29,
          "metadata": {},
          "output_type": "execute_result"
        }
      ],
      "source": [
        "matrix.ndim"
      ]
    },
    {
      "cell_type": "code",
      "execution_count": null,
      "metadata": {
        "colab": {
          "base_uri": "https://localhost:8080/"
        },
        "id": "vuo00eHhSyqz",
        "outputId": "dc7957f0-3a38-4912-d6e0-4126b569634c"
      },
      "outputs": [
        {
          "data": {
            "text/plain": [
              "torch.Size([])"
            ]
          },
          "execution_count": 30,
          "metadata": {},
          "output_type": "execute_result"
        }
      ],
      "source": [
        "scalar.shape"
      ]
    },
    {
      "cell_type": "code",
      "execution_count": null,
      "metadata": {
        "colab": {
          "base_uri": "https://localhost:8080/"
        },
        "id": "GXdiSyrmS5g7",
        "outputId": "052f6c03-65d6-4139-e18f-0f8939036f58"
      },
      "outputs": [
        {
          "data": {
            "text/plain": [
              "tensor([[[1, 2, 3],\n",
              "         [4, 5, 6],\n",
              "         [6, 7, 8]],\n",
              "\n",
              "        [[2, 3, 2],\n",
              "         [2, 3, 4],\n",
              "         [2, 3, 4]]])"
            ]
          },
          "execution_count": 36,
          "metadata": {},
          "output_type": "execute_result"
        }
      ],
      "source": [
        "tensor = torch.tensor([[[1,2,3], [4,5,6], [6,7,8]],[[2,3,2], [2,3,4],[2,3,4]]])\n",
        "tensor"
      ]
    },
    {
      "cell_type": "code",
      "execution_count": null,
      "metadata": {
        "colab": {
          "base_uri": "https://localhost:8080/"
        },
        "id": "cCLzCyCfTFeZ",
        "outputId": "81367bd4-4738-49fa-abe5-22bf686cb692"
      },
      "outputs": [
        {
          "data": {
            "text/plain": [
              "3"
            ]
          },
          "execution_count": 37,
          "metadata": {},
          "output_type": "execute_result"
        }
      ],
      "source": [
        "tensor.ndim"
      ]
    },
    {
      "cell_type": "code",
      "execution_count": null,
      "metadata": {
        "colab": {
          "base_uri": "https://localhost:8080/"
        },
        "id": "pgEoiXPaTHzM",
        "outputId": "3577d00c-a65b-4f85-a1ab-0b93b62da8b1"
      },
      "outputs": [
        {
          "data": {
            "text/plain": [
              "torch.Size([2, 3, 3])"
            ]
          },
          "execution_count": 38,
          "metadata": {},
          "output_type": "execute_result"
        }
      ],
      "source": [
        "tensor.shape"
      ]
    },
    {
      "cell_type": "code",
      "execution_count": null,
      "metadata": {
        "colab": {
          "base_uri": "https://localhost:8080/"
        },
        "id": "HHK7qFeUTKR3",
        "outputId": "99665781-b01d-4908-ef7f-32b38e3a8d22"
      },
      "outputs": [
        {
          "data": {
            "text/plain": [
              "tensor([[0.6679, 0.7702, 0.9164, 0.4838],\n",
              "        [0.9283, 0.1231, 0.4918, 0.0299],\n",
              "        [0.0731, 0.1180, 0.4655, 0.6380]])"
            ]
          },
          "execution_count": 5,
          "metadata": {},
          "output_type": "execute_result"
        }
      ],
      "source": [
        "tensor_rand = torch.rand(size=(3,4))\n",
        "tensor_rand"
      ]
    },
    {
      "cell_type": "code",
      "execution_count": null,
      "metadata": {
        "colab": {
          "base_uri": "https://localhost:8080/"
        },
        "id": "HRwSVulXmNwS",
        "outputId": "c912d44f-d853-4610-fb71-f7665041b3c0"
      },
      "outputs": [
        {
          "data": {
            "text/plain": [
              "torch.float32"
            ]
          },
          "execution_count": 6,
          "metadata": {},
          "output_type": "execute_result"
        }
      ],
      "source": [
        "tensor_rand.dtype"
      ]
    },
    {
      "cell_type": "code",
      "execution_count": null,
      "metadata": {
        "colab": {
          "base_uri": "https://localhost:8080/"
        },
        "id": "Ldwagx7pmhbj",
        "outputId": "49a19005-7548-41eb-a8ab-f045754dc228"
      },
      "outputs": [
        {
          "data": {
            "text/plain": [
              "tensor([[[0.2040, 0.8983, 0.8214],\n",
              "         [0.7610, 0.9607, 0.1834],\n",
              "         [0.0696, 0.0403, 0.9218],\n",
              "         ...,\n",
              "         [0.4968, 0.9144, 0.8900],\n",
              "         [0.4277, 0.7545, 0.4780],\n",
              "         [0.2900, 0.0129, 0.4915]],\n",
              "\n",
              "        [[0.2358, 0.0547, 0.7492],\n",
              "         [0.9911, 0.9757, 0.1555],\n",
              "         [0.5230, 0.7873, 0.0856],\n",
              "         ...,\n",
              "         [0.7821, 0.4448, 0.5120],\n",
              "         [0.5134, 0.4735, 0.4187],\n",
              "         [0.6220, 0.6159, 0.4428]],\n",
              "\n",
              "        [[0.1577, 0.9602, 0.7286],\n",
              "         [0.3709, 0.6082, 0.3561],\n",
              "         [0.3070, 0.3177, 0.4000],\n",
              "         ...,\n",
              "         [0.0915, 0.9888, 0.1263],\n",
              "         [0.4042, 0.5343, 0.7882],\n",
              "         [0.3690, 0.4798, 0.3538]],\n",
              "\n",
              "        ...,\n",
              "\n",
              "        [[0.1333, 0.3607, 0.8319],\n",
              "         [0.7243, 0.3997, 0.3803],\n",
              "         [0.1898, 0.8744, 0.7258],\n",
              "         ...,\n",
              "         [0.3745, 0.8895, 0.8134],\n",
              "         [0.4271, 0.6748, 0.8957],\n",
              "         [0.9082, 0.4383, 0.1290]],\n",
              "\n",
              "        [[0.8290, 0.7546, 0.4732],\n",
              "         [0.2231, 0.5013, 0.2326],\n",
              "         [0.9956, 0.5686, 0.3619],\n",
              "         ...,\n",
              "         [0.6609, 0.3437, 0.7067],\n",
              "         [0.8673, 0.8951, 0.3537],\n",
              "         [0.1907, 0.4950, 0.1398]],\n",
              "\n",
              "        [[0.3096, 0.4743, 0.1844],\n",
              "         [0.3633, 0.5512, 0.0760],\n",
              "         [0.3477, 0.1109, 0.7263],\n",
              "         ...,\n",
              "         [0.1722, 0.3949, 0.6583],\n",
              "         [0.9490, 0.6010, 0.6144],\n",
              "         [0.6323, 0.0819, 0.6225]]])"
            ]
          },
          "execution_count": 8,
          "metadata": {},
          "output_type": "execute_result"
        }
      ],
      "source": [
        "image_tensor_rand = torch.rand(size=(224, 224, 3))\n",
        "image_tensor_rand"
      ]
    },
    {
      "cell_type": "code",
      "execution_count": null,
      "metadata": {
        "colab": {
          "base_uri": "https://localhost:8080/"
        },
        "id": "BGsC7j4JmsuD",
        "outputId": "527fa25a-6c4d-4fff-edeb-30e80c83c202"
      },
      "outputs": [
        {
          "data": {
            "text/plain": [
              "torch.Size([224, 224, 3])"
            ]
          },
          "execution_count": 9,
          "metadata": {},
          "output_type": "execute_result"
        }
      ],
      "source": [
        "image_tensor_rand.shape"
      ]
    },
    {
      "cell_type": "code",
      "execution_count": null,
      "metadata": {
        "colab": {
          "base_uri": "https://localhost:8080/"
        },
        "id": "eAG9YCoXm617",
        "outputId": "6d39eb51-5af9-44c5-8136-5ea4e445597d"
      },
      "outputs": [
        {
          "data": {
            "text/plain": [
              "3"
            ]
          },
          "execution_count": 10,
          "metadata": {},
          "output_type": "execute_result"
        }
      ],
      "source": [
        "image_tensor_rand.ndim"
      ]
    },
    {
      "cell_type": "code",
      "execution_count": null,
      "metadata": {
        "colab": {
          "base_uri": "https://localhost:8080/"
        },
        "id": "jFVc9PlOnDWj",
        "outputId": "9a0d20b9-66bd-4e5e-ce92-6ddba015d8fe"
      },
      "outputs": [
        {
          "data": {
            "text/plain": [
              "tensor([[0., 0., 0.],\n",
              "        [0., 0., 0.],\n",
              "        [0., 0., 0.]])"
            ]
          },
          "execution_count": 8,
          "metadata": {},
          "output_type": "execute_result"
        }
      ],
      "source": [
        "zero_tensor = torch.zeros(size=(3,3))\n",
        "zero_tensor"
      ]
    },
    {
      "cell_type": "code",
      "execution_count": null,
      "metadata": {
        "colab": {
          "base_uri": "https://localhost:8080/"
        },
        "id": "woKqLZKanUSI",
        "outputId": "657fed06-3ef6-406f-b6b2-25396e95fe57"
      },
      "outputs": [
        {
          "data": {
            "text/plain": [
              "torch.float32"
            ]
          },
          "execution_count": 12,
          "metadata": {},
          "output_type": "execute_result"
        }
      ],
      "source": [
        "zero_tensor.dtype"
      ]
    },
    {
      "cell_type": "code",
      "execution_count": null,
      "metadata": {
        "colab": {
          "base_uri": "https://localhost:8080/"
        },
        "id": "yBE7F8Zanbga",
        "outputId": "806ef20e-707f-44ba-fca9-eb22b50eb60f"
      },
      "outputs": [
        {
          "data": {
            "text/plain": [
              "tensor([[1., 1., 1.],\n",
              "        [1., 1., 1.],\n",
              "        [1., 1., 1.]])"
            ]
          },
          "execution_count": 13,
          "metadata": {},
          "output_type": "execute_result"
        }
      ],
      "source": [
        "ones_tensor = torch.ones(size=(3,3))\n",
        "ones_tensor"
      ]
    },
    {
      "cell_type": "code",
      "execution_count": null,
      "metadata": {
        "colab": {
          "base_uri": "https://localhost:8080/"
        },
        "id": "86xOUh0unlt9",
        "outputId": "cec0c30a-eb10-4dae-f633-351cebdeee1c"
      },
      "outputs": [
        {
          "data": {
            "text/plain": [
              "tensor([ 2,  3,  4,  5,  6,  7,  8,  9, 10, 11, 12, 13, 14, 15, 16, 17, 18, 19])"
            ]
          },
          "execution_count": 15,
          "metadata": {},
          "output_type": "execute_result"
        }
      ],
      "source": [
        "range_rand_tensor = torch.arange(2, 20, 1)\n",
        "range_rand_tensor"
      ]
    },
    {
      "cell_type": "code",
      "execution_count": null,
      "metadata": {
        "colab": {
          "base_uri": "https://localhost:8080/"
        },
        "id": "hKSlXaAAoQvQ",
        "outputId": "cc55f098-f29d-4c80-800a-e77be9b6fc9e"
      },
      "outputs": [
        {
          "data": {
            "text/plain": [
              "(1, torch.Size([6]))"
            ]
          },
          "execution_count": 15,
          "metadata": {},
          "output_type": "execute_result"
        }
      ],
      "source": [
        "range_rand_tensor.ndim, range_rand_tensor.shape"
      ]
    },
    {
      "cell_type": "code",
      "execution_count": null,
      "metadata": {
        "colab": {
          "base_uri": "https://localhost:8080/"
        },
        "id": "W16KAtiFojPn",
        "outputId": "6b647e20-103e-417b-baf9-7b3b9072cd1f"
      },
      "outputs": [
        {
          "data": {
            "text/plain": [
              "(torch.Size([3, 3]), torch.Size([3, 3]))"
            ]
          },
          "execution_count": 12,
          "metadata": {},
          "output_type": "execute_result"
        }
      ],
      "source": [
        "similar_zero_tensor = torch.zeros_like(zero_tensor)\n",
        "similar_zero_tensor.shape, zero_tensor.shape"
      ]
    },
    {
      "cell_type": "code",
      "execution_count": null,
      "metadata": {
        "colab": {
          "base_uri": "https://localhost:8080/"
        },
        "id": "3_6b19LcpZMJ",
        "outputId": "b7a5509f-6b72-41a9-f5b7-9068d061af16"
      },
      "outputs": [
        {
          "data": {
            "text/plain": [
              "(torch.Size([3, 3]), torch.Size([3, 3]))"
            ]
          },
          "execution_count": 17,
          "metadata": {},
          "output_type": "execute_result"
        }
      ],
      "source": [
        "similar_ones_tensor = torch.ones_like(ones_tensor)\n",
        "similar_ones_tensor.shape, ones_tensor.shape"
      ]
    },
    {
      "cell_type": "code",
      "execution_count": null,
      "metadata": {
        "colab": {
          "base_uri": "https://localhost:8080/"
        },
        "id": "5h6sFqGwp5Mv",
        "outputId": "e37f5bcf-8d7b-42a8-b211-362ee8eb1a73"
      },
      "outputs": [
        {
          "data": {
            "text/plain": [
              "torch.float32"
            ]
          },
          "execution_count": 19,
          "metadata": {},
          "output_type": "execute_result"
        }
      ],
      "source": [
        "float_32_tensor = torch.tensor([1.0, 2.0, 3.0],\n",
        "                               dtype=None,\n",
        "                               device=None,\n",
        "                               requires_grad=False)\n",
        "float_32_tensor.dtype\n"
      ]
    },
    {
      "cell_type": "code",
      "execution_count": null,
      "metadata": {
        "colab": {
          "base_uri": "https://localhost:8080/"
        },
        "id": "c1JAucEdtQwx",
        "outputId": "e138cddc-fca5-4607-a4cc-27bdf7ebb1dd"
      },
      "outputs": [
        {
          "data": {
            "text/plain": [
              "torch.float16"
            ]
          },
          "execution_count": 21,
          "metadata": {},
          "output_type": "execute_result"
        }
      ],
      "source": [
        "float_16_tensor = float_32_tensor.type(torch.float16)\n",
        "float_16_tensor.dtype"
      ]
    },
    {
      "cell_type": "code",
      "execution_count": null,
      "metadata": {
        "colab": {
          "base_uri": "https://localhost:8080/"
        },
        "id": "YfDXvWt9tonz",
        "outputId": "880b800b-8866-4fa1-b192-8b5261e3631b"
      },
      "outputs": [
        {
          "data": {
            "text/plain": [
              "torch.float32"
            ]
          },
          "execution_count": 23,
          "metadata": {},
          "output_type": "execute_result"
        }
      ],
      "source": [
        "multi = float_16_tensor * float_32_tensor\n",
        "multi.dtype"
      ]
    },
    {
      "cell_type": "code",
      "execution_count": null,
      "metadata": {
        "colab": {
          "base_uri": "https://localhost:8080/"
        },
        "id": "b5GVUGhit74S",
        "outputId": "2628c581-08b6-43f1-d359-d62eb07f81ce"
      },
      "outputs": [
        {
          "name": "stdout",
          "output_type": "stream",
          "text": [
            "tensor([[0.9238, 0.1818, 0.7617, 0.4710],\n",
            "        [0.3170, 0.0949, 0.3164, 0.1416],\n",
            "        [0.5136, 0.7020, 0.5275, 0.2649]])\n"
          ]
        },
        {
          "data": {
            "text/plain": [
              "(torch.Size([3, 4]), device(type='cpu'), torch.float32)"
            ]
          },
          "execution_count": 27,
          "metadata": {},
          "output_type": "execute_result"
        }
      ],
      "source": [
        "rand_tensor = torch.rand(3,4)\n",
        "print(rand_tensor)\n",
        "rand_tensor.shape, rand_tensor.device, rand_tensor.dtype"
      ]
    },
    {
      "cell_type": "code",
      "execution_count": null,
      "metadata": {
        "colab": {
          "base_uri": "https://localhost:8080/"
        },
        "id": "ZzTWBum5urmt",
        "outputId": "9051f7b7-5c64-4da3-c289-ad7a3952ed7a"
      },
      "outputs": [
        {
          "name": "stdout",
          "output_type": "stream",
          "text": [
            "tensor([[0.6318, 0.4927, 0.1522, 0.3999],\n",
            "        [0.5239, 0.6372, 0.1031, 0.4639],\n",
            "        [0.2101, 0.1610, 0.5693, 0.0640],\n",
            "        [0.0864, 0.4526, 0.0192, 0.4058]], device='cuda:0',\n",
            "       dtype=torch.float16)\n",
            "Shape of tensor: torch.Size([4, 4])\n",
            "Datatype of tensor: torch.float16\n",
            "Device tensor is stored on: cuda:0\n"
          ]
        }
      ],
      "source": [
        "# Create a tensor\n",
        "some_tensor = torch.rand(size=(4,4),\n",
        "                         dtype=torch.float16,\n",
        "                         device=\"cuda\")\n",
        "\n",
        "# Find out details about it\n",
        "print(some_tensor)\n",
        "print(f\"Shape of tensor: {some_tensor.shape}\")\n",
        "print(f\"Datatype of tensor: {some_tensor.dtype}\")\n",
        "print(f\"Device tensor is stored on: {some_tensor.device}\") # will default to CPU"
      ]
    },
    {
      "cell_type": "code",
      "execution_count": null,
      "metadata": {
        "colab": {
          "base_uri": "https://localhost:8080/"
        },
        "id": "Mos3vtZhvEaS",
        "outputId": "4f3bcd9b-82d8-43b5-dba2-b24b4d29f617"
      },
      "outputs": [
        {
          "data": {
            "text/plain": [
              "tensor([101, 102, 103])"
            ]
          },
          "execution_count": 3,
          "metadata": {},
          "output_type": "execute_result"
        }
      ],
      "source": [
        "tensor = torch.tensor([1, 2, 3])\n",
        "tensor + 100"
      ]
    },
    {
      "cell_type": "code",
      "execution_count": null,
      "metadata": {
        "colab": {
          "base_uri": "https://localhost:8080/"
        },
        "id": "RiFRUtY7hg5E",
        "outputId": "35d12ba2-25a9-4965-da72-e42de87ee22c"
      },
      "outputs": [
        {
          "data": {
            "text/plain": [
              "tensor([10, 20, 30])"
            ]
          },
          "execution_count": 4,
          "metadata": {},
          "output_type": "execute_result"
        }
      ],
      "source": [
        "tensor * 10"
      ]
    },
    {
      "cell_type": "code",
      "execution_count": null,
      "metadata": {
        "colab": {
          "base_uri": "https://localhost:8080/"
        },
        "id": "G41ZZv7ChrWH",
        "outputId": "c14a1ae5-8167-45d7-b839-4d36931e9b43"
      },
      "outputs": [
        {
          "data": {
            "text/plain": [
              "tensor([0.1000, 0.2000, 0.3000])"
            ]
          },
          "execution_count": 5,
          "metadata": {},
          "output_type": "execute_result"
        }
      ],
      "source": [
        "tensor / 10"
      ]
    },
    {
      "cell_type": "code",
      "execution_count": null,
      "metadata": {
        "colab": {
          "base_uri": "https://localhost:8080/"
        },
        "id": "hFaW_f4YhvhP",
        "outputId": "ea05078c-49b0-479a-c554-43f70ee6a6ae"
      },
      "outputs": [
        {
          "data": {
            "text/plain": [
              "tensor([-9, -8, -7])"
            ]
          },
          "execution_count": 6,
          "metadata": {},
          "output_type": "execute_result"
        }
      ],
      "source": [
        "tensor - 10"
      ]
    },
    {
      "cell_type": "code",
      "execution_count": null,
      "metadata": {
        "colab": {
          "base_uri": "https://localhost:8080/"
        },
        "id": "uDt2EyUxh0l8",
        "outputId": "04112570-4745-48cd-ff38-d380d7f5f0e3"
      },
      "outputs": [
        {
          "data": {
            "text/plain": [
              "tensor([10, 20, 30])"
            ]
          },
          "execution_count": 7,
          "metadata": {},
          "output_type": "execute_result"
        }
      ],
      "source": [
        "torch.mul(tensor, 10)"
      ]
    },
    {
      "cell_type": "code",
      "execution_count": null,
      "metadata": {
        "colab": {
          "base_uri": "https://localhost:8080/"
        },
        "id": "dns0LdOjh_U1",
        "outputId": "e45acec3-1105-4a57-8330-f60a80a09588"
      },
      "outputs": [
        {
          "data": {
            "text/plain": [
              "tensor([3, 4, 5])"
            ]
          },
          "execution_count": 8,
          "metadata": {},
          "output_type": "execute_result"
        }
      ],
      "source": [
        "torch.add(tensor, 2)"
      ]
    },
    {
      "cell_type": "code",
      "execution_count": null,
      "metadata": {
        "colab": {
          "base_uri": "https://localhost:8080/"
        },
        "id": "NUoymW0_iFh_",
        "outputId": "294a8dd1-fc99-490e-c267-ce8b891facad"
      },
      "outputs": [
        {
          "data": {
            "text/plain": [
              "tensor(32)"
            ]
          },
          "execution_count": 9,
          "metadata": {},
          "output_type": "execute_result"
        }
      ],
      "source": [
        "tensor2 = torch.tensor([4, 5, 6])\n",
        "torch.dot(tensor, tensor2)"
      ]
    },
    {
      "cell_type": "markdown",
      "metadata": {
        "id": "O_HEASrUmPWr"
      },
      "source": []
    },
    {
      "cell_type": "code",
      "execution_count": null,
      "metadata": {
        "colab": {
          "base_uri": "https://localhost:8080/"
        },
        "id": "V8_7Xdr5iU-c",
        "outputId": "32d4b462-c660-42ba-cdcb-8a2ef778be57"
      },
      "outputs": [
        {
          "data": {
            "text/plain": [
              "tensor([[12, 18, 24],\n",
              "        [33, 48, 63]])"
            ]
          },
          "execution_count": 15,
          "metadata": {},
          "output_type": "execute_result"
        }
      ],
      "source": [
        "matrix1 = torch.tensor([[1,2,3], [4,5,6]])\n",
        "matrix2 = torch.tensor([[4,5,6],[1,2,3], [2,3,4]])\n",
        "torch.matmul(matrix1, matrix2)"
      ]
    },
    {
      "cell_type": "code",
      "execution_count": null,
      "metadata": {
        "colab": {
          "base_uri": "https://localhost:8080/"
        },
        "id": "dopTq1P7jLXk",
        "outputId": "d8a513c8-5b01-40bc-cac0-ef3e0234438a"
      },
      "outputs": [
        {
          "data": {
            "text/plain": [
              "tensor([[12, 18, 24],\n",
              "        [33, 48, 63]])"
            ]
          },
          "execution_count": 17,
          "metadata": {},
          "output_type": "execute_result"
        }
      ],
      "source": [
        "  matrix1 @ matrix2"
      ]
    },
    {
      "cell_type": "code",
      "execution_count": null,
      "metadata": {
        "colab": {
          "base_uri": "https://localhost:8080/"
        },
        "id": "MARy8csymKMQ",
        "outputId": "a96bac8e-9f60-43d1-eb31-bd726a84abbe"
      },
      "outputs": [
        {
          "name": "stdout",
          "output_type": "stream",
          "text": [
            "CPU times: user 441 µs, sys: 0 ns, total: 441 µs\n",
            "Wall time: 339 µs\n"
          ]
        },
        {
          "data": {
            "text/plain": [
              "tensor([[12, 18, 24],\n",
              "        [33, 48, 63]])"
            ]
          },
          "execution_count": 18,
          "metadata": {},
          "output_type": "execute_result"
        }
      ],
      "source": [
        "%%time\n",
        "torch.matmul(matrix1, matrix2)"
      ]
    },
    {
      "cell_type": "code",
      "execution_count": null,
      "metadata": {
        "colab": {
          "base_uri": "https://localhost:8080/"
        },
        "id": "-H1UuSK4mg2Z",
        "outputId": "587d321b-db9b-402c-91c7-3808885ab34a"
      },
      "outputs": [
        {
          "name": "stdout",
          "output_type": "stream",
          "text": [
            "CPU times: user 0 ns, sys: 570 µs, total: 570 µs\n",
            "Wall time: 459 µs\n"
          ]
        },
        {
          "data": {
            "text/plain": [
              "tensor([[12, 18, 24],\n",
              "        [33, 48, 63]])"
            ]
          },
          "execution_count": 19,
          "metadata": {},
          "output_type": "execute_result"
        }
      ],
      "source": [
        "%%time\n",
        "matrix1 @ matrix2"
      ]
    },
    {
      "cell_type": "code",
      "execution_count": null,
      "metadata": {
        "colab": {
          "base_uri": "https://localhost:8080/"
        },
        "id": "vwhbftHSmlcg",
        "outputId": "54cefba3-86ce-4293-8c29-762035b884c5"
      },
      "outputs": [
        {
          "data": {
            "text/plain": [
              "tensor([[1, 4],\n",
              "        [2, 5],\n",
              "        [3, 6]])"
            ]
          },
          "execution_count": 21,
          "metadata": {},
          "output_type": "execute_result"
        }
      ],
      "source": [
        "matrix1.T"
      ]
    },
    {
      "cell_type": "code",
      "execution_count": null,
      "metadata": {
        "colab": {
          "base_uri": "https://localhost:8080/"
        },
        "id": "PHErl-F0m73-",
        "outputId": "6194da95-49f2-4e3e-8b31-cdfb382f64ec"
      },
      "outputs": [
        {
          "data": {
            "text/plain": [
              "tensor([[1, 2, 3],\n",
              "        [4, 5, 6]])"
            ]
          },
          "execution_count": 22,
          "metadata": {},
          "output_type": "execute_result"
        }
      ],
      "source": [
        "matrix1"
      ]
    },
    {
      "cell_type": "code",
      "execution_count": null,
      "metadata": {
        "colab": {
          "base_uri": "https://localhost:8080/"
        },
        "id": "g9ePqqkqnMin",
        "outputId": "6801ff0c-e338-4eaa-e2d0-059b85256531"
      },
      "outputs": [
        {
          "data": {
            "text/plain": [
              "(tensor([[1., 2.],\n",
              "         [3., 4.],\n",
              "         [5., 6.]]),\n",
              " tensor([[ 7., 10.],\n",
              "         [ 8., 11.],\n",
              "         [ 9., 12.]]))"
            ]
          },
          "execution_count": 23,
          "metadata": {},
          "output_type": "execute_result"
        }
      ],
      "source": [
        "tensorA = torch.tensor([[1, 2], [3, 4], [5, 6]], dtype=torch.float32)\n",
        "tensorB = torch.tensor([[7, 10], [8, 11], [9, 12]], dtype=torch.float32)\n",
        "tensorA, tensorB"
      ]
    },
    {
      "cell_type": "code",
      "execution_count": null,
      "metadata": {
        "colab": {
          "base_uri": "https://localhost:8080/"
        },
        "id": "U-AvB8len0a-",
        "outputId": "bba63534-54e6-4b13-a95a-ee3abfd4a306"
      },
      "outputs": [
        {
          "data": {
            "text/plain": [
              "tensor([[ 7.,  8.,  9.],\n",
              "        [10., 11., 12.]])"
            ]
          },
          "execution_count": 24,
          "metadata": {},
          "output_type": "execute_result"
        }
      ],
      "source": [
        "tensorB.T"
      ]
    },
    {
      "cell_type": "code",
      "execution_count": null,
      "metadata": {
        "id": "mDqlU68Sn4Y2"
      },
      "outputs": [],
      "source": [
        "torch.matmul(tensorA, tensorB.T)"
      ]
    },
    {
      "cell_type": "code",
      "execution_count": null,
      "metadata": {
        "colab": {
          "base_uri": "https://localhost:8080/"
        },
        "id": "S98qPdTOn9v3",
        "outputId": "fe4e2099-0c86-4e52-88bb-d6d5eb406bac"
      },
      "outputs": [
        {
          "data": {
            "text/plain": [
              "tensor([[ 27,  30,  33],\n",
              "        [ 61,  68,  75],\n",
              "        [ 95, 106, 117]], dtype=torch.int32)"
            ]
          },
          "execution_count": 27,
          "metadata": {},
          "output_type": "execute_result"
        }
      ],
      "source": [
        "torch.mm(tensorA, tensorB.T).type(torch.int32)"
      ]
    },
    {
      "cell_type": "code",
      "execution_count": null,
      "metadata": {
        "colab": {
          "base_uri": "https://localhost:8080/"
        },
        "id": "svjl548IoHge",
        "outputId": "20ff56ca-3c93-4c05-aefc-10e6284e1db3"
      },
      "outputs": [
        {
          "data": {
            "text/plain": [
              "tensor([[4.9657, 4.2077],\n",
              "        [3.7351, 2.8358]])"
            ]
          },
          "execution_count": 29,
          "metadata": {},
          "output_type": "execute_result"
        }
      ],
      "source": [
        "torch.mm(torch.rand(2, 20), torch.rand(20,2))"
      ]
    },
    {
      "cell_type": "code",
      "execution_count": null,
      "metadata": {
        "colab": {
          "base_uri": "https://localhost:8080/"
        },
        "id": "n8XoTSuao24W",
        "outputId": "74a413df-1497-4c2f-bfb0-a618f1c8584b"
      },
      "outputs": [
        {
          "data": {
            "text/plain": [
              "tensor([ 0, 10, 20, 30, 40, 50, 60, 70, 80, 90])"
            ]
          },
          "execution_count": 3,
          "metadata": {},
          "output_type": "execute_result"
        }
      ],
      "source": [
        "x = torch.arange(0, 100, 10)\n",
        "x"
      ]
    },
    {
      "cell_type": "code",
      "execution_count": null,
      "metadata": {
        "colab": {
          "base_uri": "https://localhost:8080/"
        },
        "id": "MIloBifHrKeN",
        "outputId": "ffaca90a-6807-40c7-c09f-b23a1b3a56d9"
      },
      "outputs": [
        {
          "data": {
            "text/plain": [
              "tensor(0)"
            ]
          },
          "execution_count": 31,
          "metadata": {},
          "output_type": "execute_result"
        }
      ],
      "source": [
        "torch.min(x)"
      ]
    },
    {
      "cell_type": "code",
      "execution_count": null,
      "metadata": {
        "colab": {
          "base_uri": "https://localhost:8080/"
        },
        "id": "ML9DTnVXrMSz",
        "outputId": "ffc5868f-695f-4293-acc3-81e6bb4d2ad3"
      },
      "outputs": [
        {
          "data": {
            "text/plain": [
              "tensor(0)"
            ]
          },
          "execution_count": 33,
          "metadata": {},
          "output_type": "execute_result"
        }
      ],
      "source": [
        "x.min()"
      ]
    },
    {
      "cell_type": "code",
      "execution_count": null,
      "metadata": {
        "colab": {
          "base_uri": "https://localhost:8080/"
        },
        "id": "DKLYpHxIrNw_",
        "outputId": "c50480a8-9c18-4de4-9000-ee5c721287c5"
      },
      "outputs": [
        {
          "data": {
            "text/plain": [
              "tensor(90)"
            ]
          },
          "execution_count": 34,
          "metadata": {},
          "output_type": "execute_result"
        }
      ],
      "source": [
        "x.max()"
      ]
    },
    {
      "cell_type": "code",
      "execution_count": null,
      "metadata": {
        "colab": {
          "base_uri": "https://localhost:8080/"
        },
        "id": "wnLaWTJErRbX",
        "outputId": "d84af1ba-1071-4de4-cd71-33a8271ec1a1"
      },
      "outputs": [
        {
          "data": {
            "text/plain": [
              "tensor(45.)"
            ]
          },
          "execution_count": 42,
          "metadata": {},
          "output_type": "execute_result"
        }
      ],
      "source": [
        "torch.mean(x, dtype=torch.float32)"
      ]
    },
    {
      "cell_type": "code",
      "execution_count": null,
      "metadata": {
        "colab": {
          "base_uri": "https://localhost:8080/"
        },
        "id": "0TKMcELxrS_-",
        "outputId": "a3b3e43c-5409-4de6-f348-c7634f089ba3"
      },
      "outputs": [
        {
          "data": {
            "text/plain": [
              "(tensor(450), tensor(450))"
            ]
          },
          "execution_count": 4,
          "metadata": {},
          "output_type": "execute_result"
        }
      ],
      "source": [
        "torch.sum(x), x.sum()"
      ]
    },
    {
      "cell_type": "code",
      "execution_count": null,
      "metadata": {
        "colab": {
          "base_uri": "https://localhost:8080/"
        },
        "id": "eZMZ-2UKr0dS",
        "outputId": "434148a9-833d-4a13-eb07-ba5f65375e05"
      },
      "outputs": [
        {
          "data": {
            "text/plain": [
              "tensor([ 0, 10, 20, 30, 40, 50, 60, 70, 80, 90])"
            ]
          },
          "execution_count": 43,
          "metadata": {},
          "output_type": "execute_result"
        }
      ],
      "source": [
        "x"
      ]
    },
    {
      "cell_type": "code",
      "execution_count": null,
      "metadata": {
        "colab": {
          "base_uri": "https://localhost:8080/"
        },
        "id": "lRo3Rmx7sVXn",
        "outputId": "78953c31-1b9f-43c0-b003-9f09aee50f13"
      },
      "outputs": [
        {
          "data": {
            "text/plain": [
              "torch.dtype"
            ]
          },
          "execution_count": 44,
          "metadata": {},
          "output_type": "execute_result"
        }
      ],
      "source": [
        "torch.dtype"
      ]
    },
    {
      "cell_type": "code",
      "execution_count": null,
      "metadata": {
        "colab": {
          "base_uri": "https://localhost:8080/"
        },
        "id": "o6PC6gmisX2R",
        "outputId": "e4bd67d1-92fa-421b-81d7-59dfee3f8b6f"
      },
      "outputs": [
        {
          "data": {
            "text/plain": [
              "torch.int64"
            ]
          },
          "execution_count": 45,
          "metadata": {},
          "output_type": "execute_result"
        }
      ],
      "source": [
        "x.dtype"
      ]
    },
    {
      "cell_type": "code",
      "execution_count": null,
      "metadata": {
        "colab": {
          "base_uri": "https://localhost:8080/"
        },
        "id": "XoVBuQw2sbkT",
        "outputId": "27afdd56-599a-4048-f79a-c78863d201b9"
      },
      "outputs": [
        {
          "data": {
            "text/plain": [
              "tensor(45.)"
            ]
          },
          "execution_count": 46,
          "metadata": {},
          "output_type": "execute_result"
        }
      ],
      "source": [
        "x.type(torch.float32).mean()"
      ]
    },
    {
      "cell_type": "code",
      "execution_count": null,
      "metadata": {
        "id": "Yfz90rT5skUN"
      },
      "outputs": [],
      "source": [
        "import torch"
      ]
    },
    {
      "cell_type": "code",
      "execution_count": null,
      "metadata": {
        "colab": {
          "base_uri": "https://localhost:8080/"
        },
        "id": "qvp07Bhusn1P",
        "outputId": "d51bd002-b635-459a-cfdf-3b00714b1d52"
      },
      "outputs": [
        {
          "data": {
            "text/plain": [
              "(tensor(0), tensor(0))"
            ]
          },
          "execution_count": 8,
          "metadata": {},
          "output_type": "execute_result"
        }
      ],
      "source": [
        "torch.argmin(x), x.argmin()"
      ]
    },
    {
      "cell_type": "code",
      "execution_count": null,
      "metadata": {
        "colab": {
          "base_uri": "https://localhost:8080/"
        },
        "id": "rDHJ65mdtECO",
        "outputId": "6e7a52ba-7bf9-4b4e-f474-7af645e23138"
      },
      "outputs": [
        {
          "data": {
            "text/plain": [
              "(tensor(9), tensor(9))"
            ]
          },
          "execution_count": 9,
          "metadata": {},
          "output_type": "execute_result"
        }
      ],
      "source": [
        "torch.argmax(x), x.argmax()"
      ]
    },
    {
      "cell_type": "code",
      "execution_count": null,
      "metadata": {
        "id": "6giJOyVotGjm"
      },
      "outputs": [],
      "source": [
        "tensor = torch.arange(10, 100, 10)"
      ]
    },
    {
      "cell_type": "code",
      "execution_count": null,
      "metadata": {
        "colab": {
          "base_uri": "https://localhost:8080/"
        },
        "id": "7xFrxPJrve73",
        "outputId": "54155316-a128-4d13-ec92-287ec5f67ffe"
      },
      "outputs": [
        {
          "data": {
            "text/plain": [
              "(torch.int64, tensor([10, 20, 30, 40, 50, 60, 70, 80, 90]))"
            ]
          },
          "execution_count": 11,
          "metadata": {},
          "output_type": "execute_result"
        }
      ],
      "source": [
        "tensor.dtype, tensor"
      ]
    },
    {
      "cell_type": "code",
      "execution_count": null,
      "metadata": {
        "colab": {
          "base_uri": "https://localhost:8080/"
        },
        "id": "vfG2iT2IvhmH",
        "outputId": "e3e0cc67-f746-439a-a28a-918423cb5b5d"
      },
      "outputs": [
        {
          "data": {
            "text/plain": [
              "tensor([10., 20., 30., 40., 50., 60., 70., 80., 90.])"
            ]
          },
          "execution_count": 12,
          "metadata": {},
          "output_type": "execute_result"
        }
      ],
      "source": [
        "tensor.type(torch.float32)"
      ]
    },
    {
      "cell_type": "code",
      "execution_count": null,
      "metadata": {
        "colab": {
          "base_uri": "https://localhost:8080/"
        },
        "id": "ClnCNRP0vm_k",
        "outputId": "6cb61805-b5f0-4b94-852b-e9f5abb99a1b"
      },
      "outputs": [
        {
          "data": {
            "text/plain": [
              "tensor([10., 20., 30., 40., 50., 60., 70., 80., 90.], dtype=torch.float16)"
            ]
          },
          "execution_count": 14,
          "metadata": {},
          "output_type": "execute_result"
        }
      ],
      "source": [
        "tensor_float16 = tensor.type(torch.float16)\n",
        "tensor_float16"
      ]
    },
    {
      "cell_type": "code",
      "execution_count": null,
      "metadata": {
        "colab": {
          "base_uri": "https://localhost:8080/"
        },
        "id": "y-rG3RlevuiH",
        "outputId": "96dd0376-4ad5-4ac0-b566-996102736543"
      },
      "outputs": [
        {
          "data": {
            "text/plain": [
              "torch.Size([9])"
            ]
          },
          "execution_count": 28,
          "metadata": {},
          "output_type": "execute_result"
        }
      ],
      "source": [
        "tensor_int8 = tensor.type(torch.int8)\n",
        "tensor_int8.shape"
      ]
    },
    {
      "cell_type": "code",
      "execution_count": null,
      "metadata": {
        "colab": {
          "base_uri": "https://localhost:8080/"
        },
        "id": "5wOt0rvqwAUw",
        "outputId": "7cb0e8a6-a8db-4032-f597-08788bc24911"
      },
      "outputs": [
        {
          "data": {
            "text/plain": [
              "tensor([10, 20, 30, 40, 50, 60, 70, 80, 90], dtype=torch.int8)"
            ]
          },
          "execution_count": 25,
          "metadata": {},
          "output_type": "execute_result"
        }
      ],
      "source": [
        "torch.reshape(tensor_int8, (9,))"
      ]
    },
    {
      "cell_type": "code",
      "execution_count": null,
      "metadata": {
        "colab": {
          "base_uri": "https://localhost:8080/"
        },
        "id": "qRCJZaN-x2oU",
        "outputId": "00a73900-b17d-41da-8383-5a13b80ab57a"
      },
      "outputs": [
        {
          "data": {
            "text/plain": [
              "tensor([10., 20., 30., 40., 50., 60., 70., 80., 90.], dtype=torch.float16)"
            ]
          },
          "execution_count": 26,
          "metadata": {},
          "output_type": "execute_result"
        }
      ],
      "source": [
        "tensor_float16.reshape((9,))"
      ]
    },
    {
      "cell_type": "code",
      "execution_count": null,
      "metadata": {
        "colab": {
          "base_uri": "https://localhost:8080/"
        },
        "id": "VtC1uYFnycY8",
        "outputId": "9eb9e638-c64f-4418-9f92-1d5e7778a25a"
      },
      "outputs": [
        {
          "data": {
            "text/plain": [
              "torch.Size([9])"
            ]
          },
          "execution_count": 27,
          "metadata": {},
          "output_type": "execute_result"
        }
      ],
      "source": [
        "tensor_float16.shape"
      ]
    },
    {
      "cell_type": "code",
      "execution_count": null,
      "metadata": {
        "colab": {
          "base_uri": "https://localhost:8080/"
        },
        "id": "8-3XPD6yyiZ8",
        "outputId": "c3618b78-e169-4a13-ae05-7806322004f2"
      },
      "outputs": [
        {
          "data": {
            "text/plain": [
              "(tensor([1., 2., 3., 4., 5., 6., 7.]), torch.Size([7]))"
            ]
          },
          "execution_count": 29,
          "metadata": {},
          "output_type": "execute_result"
        }
      ],
      "source": [
        "x = torch.arange(1.,8.)\n",
        "x, x.shape"
      ]
    },
    {
      "cell_type": "code",
      "execution_count": null,
      "metadata": {
        "colab": {
          "base_uri": "https://localhost:8080/"
        },
        "id": "_KZVEchMy_6a",
        "outputId": "17375aa8-6169-4d14-8e26-f56620eb00ef"
      },
      "outputs": [
        {
          "data": {
            "text/plain": [
              "(tensor([[1., 2., 3., 4., 5., 6., 7.]]), torch.Size([1, 7]))"
            ]
          },
          "execution_count": 30,
          "metadata": {},
          "output_type": "execute_result"
        }
      ],
      "source": [
        "x_reshaped = x.reshape(1,7)\n",
        "x_reshaped, x_reshaped.shape"
      ]
    },
    {
      "cell_type": "code",
      "execution_count": null,
      "metadata": {
        "colab": {
          "base_uri": "https://localhost:8080/"
        },
        "id": "yCug3DLazNNx",
        "outputId": "3f18c3a4-0dca-4052-eb0b-d39d8955b513"
      },
      "outputs": [
        {
          "data": {
            "text/plain": [
              "(tensor([[1., 2., 3., 4., 5., 6., 7.]]), torch.Size([1, 7]))"
            ]
          },
          "execution_count": 31,
          "metadata": {},
          "output_type": "execute_result"
        }
      ],
      "source": [
        "z = x.view(1,7)\n",
        "z, z.shape"
      ]
    },
    {
      "cell_type": "code",
      "execution_count": null,
      "metadata": {
        "colab": {
          "base_uri": "https://localhost:8080/"
        },
        "id": "SdTO7Y05zcie",
        "outputId": "37201c62-432b-448a-f9a2-3d801ba308e3"
      },
      "outputs": [
        {
          "data": {
            "text/plain": [
              "(tensor([1., 2., 3., 4., 5., 6., 7.]), torch.Size([7]))"
            ]
          },
          "execution_count": 32,
          "metadata": {},
          "output_type": "execute_result"
        }
      ],
      "source": [
        "x, x.shape"
      ]
    },
    {
      "cell_type": "code",
      "execution_count": null,
      "metadata": {
        "colab": {
          "base_uri": "https://localhost:8080/"
        },
        "id": "frd2zUl_zkaf",
        "outputId": "a29c7ed0-c6b5-4aad-ae43-50985100b4d4"
      },
      "outputs": [
        {
          "data": {
            "text/plain": [
              "(tensor([[5., 2., 3., 4., 5., 6., 7.]]), tensor([5., 2., 3., 4., 5., 6., 7.]))"
            ]
          },
          "execution_count": 33,
          "metadata": {},
          "output_type": "execute_result"
        }
      ],
      "source": [
        "z[:, 0] = 5\n",
        "z, x"
      ]
    },
    {
      "cell_type": "code",
      "execution_count": null,
      "metadata": {
        "colab": {
          "base_uri": "https://localhost:8080/"
        },
        "id": "wtKm7ZUOzsD3",
        "outputId": "b4fe840a-265a-4e7c-d036-4001e7753288"
      },
      "outputs": [
        {
          "data": {
            "text/plain": [
              "tensor([[5., 2., 3., 4., 5., 6., 7.],\n",
              "        [5., 2., 3., 4., 5., 6., 7.],\n",
              "        [5., 2., 3., 4., 5., 6., 7.],\n",
              "        [5., 2., 3., 4., 5., 6., 7.]])"
            ]
          },
          "execution_count": 42,
          "metadata": {},
          "output_type": "execute_result"
        }
      ],
      "source": [
        "x_row_stacked = torch.stack([x,x,x,x], dim=0)\n",
        "x_row_stacked"
      ]
    },
    {
      "cell_type": "code",
      "execution_count": null,
      "metadata": {
        "colab": {
          "base_uri": "https://localhost:8080/"
        },
        "id": "rJbEewBN0D_Z",
        "outputId": "d2ef9cb9-ac2a-436c-87a7-5cd742f4f823"
      },
      "outputs": [
        {
          "data": {
            "text/plain": [
              "tensor([[5., 5., 5., 5.],\n",
              "        [2., 2., 2., 2.],\n",
              "        [3., 3., 3., 3.],\n",
              "        [4., 4., 4., 4.],\n",
              "        [5., 5., 5., 5.],\n",
              "        [6., 6., 6., 6.],\n",
              "        [7., 7., 7., 7.]])"
            ]
          },
          "execution_count": 41,
          "metadata": {},
          "output_type": "execute_result"
        }
      ],
      "source": [
        "x_col_stacked = torch.stack([x,x,x,x], dim=1)\n",
        "x_col_stacked"
      ]
    },
    {
      "cell_type": "code",
      "execution_count": null,
      "metadata": {
        "colab": {
          "base_uri": "https://localhost:8080/"
        },
        "id": "5OSh9zQ10fBP",
        "outputId": "9064ac7e-bab6-4703-b9b5-183c9e39f4a8"
      },
      "outputs": [
        {
          "name": "stdout",
          "output_type": "stream",
          "text": [
            "Previous Tensor: tensor([[5., 2., 3., 4., 5., 6., 7.]])\n",
            "Previous Shape: torch.Size([1, 7])\n",
            "\n",
            "After Squeezing\n",
            "\n",
            "After Squeezing: tensor([5., 2., 3., 4., 5., 6., 7.])\n",
            "After Squeezing: torch.Size([7])\n"
          ]
        }
      ],
      "source": [
        "print(f\"Previous Tensor: {x_reshaped}\")\n",
        "print(f\"Previous Shape: {x_reshaped.shape}\")\n",
        "print(f\"\\nAfter Squeezing\\n\")\n",
        "\n",
        "x_squeezed = x_reshaped.squeeze()\n",
        "print(f\"After Squeezing: {x_squeezed}\")\n",
        "print(f\"After Squeezing: {x_squeezed.shape}\")"
      ]
    },
    {
      "cell_type": "code",
      "execution_count": null,
      "metadata": {
        "colab": {
          "base_uri": "https://localhost:8080/"
        },
        "id": "MlZXNHNs1mIw",
        "outputId": "ef7a6e37-2d8c-4dc1-f219-bb47bc58ed76"
      },
      "outputs": [
        {
          "data": {
            "text/plain": [
              "(tensor([[5., 2., 3., 4., 5., 6., 7.]]), torch.Size([1, 7]))"
            ]
          },
          "execution_count": 46,
          "metadata": {},
          "output_type": "execute_result"
        }
      ],
      "source": [
        "x_unsqueezed = x_squeezed.unsqueeze(dim=0)\n",
        "x_unsqueezed, x_unsqueezed.shape"
      ]
    },
    {
      "cell_type": "code",
      "execution_count": null,
      "metadata": {
        "colab": {
          "base_uri": "https://localhost:8080/"
        },
        "id": "5sd-Smwu1_4z",
        "outputId": "ec0fc3db-1971-414c-a441-08cf8db39300"
      },
      "outputs": [
        {
          "data": {
            "text/plain": [
              "(torch.Size([224, 224, 3]), torch.Size([3, 224, 224]))"
            ]
          },
          "execution_count": 48,
          "metadata": {},
          "output_type": "execute_result"
        }
      ],
      "source": [
        "x_original = torch.rand(size=(224, 224, 3))\n",
        "x_permuted = x_original.permute(2, 0, 1)\n",
        "x_original.shape, x_permuted.shape"
      ]
    },
    {
      "cell_type": "code",
      "execution_count": null,
      "metadata": {
        "id": "Vkc-oa3a2ihR"
      },
      "outputs": [],
      "source": [
        "x_second_permuted = x_original.permute(0, 2, 1)\n",
        "x_second_permuted , x_second_permuted.shape"
      ]
    },
    {
      "cell_type": "code",
      "execution_count": null,
      "metadata": {
        "colab": {
          "base_uri": "https://localhost:8080/"
        },
        "id": "ahXGYqd-25Iy",
        "outputId": "b948cc18-1ffe-4821-eabd-cd782e1dc5a3"
      },
      "outputs": [
        {
          "data": {
            "text/plain": [
              "(tensor([[[1, 2, 3],\n",
              "          [4, 5, 6],\n",
              "          [7, 8, 9]]]),\n",
              " torch.Size([1, 3, 3]))"
            ]
          },
          "execution_count": 50,
          "metadata": {},
          "output_type": "execute_result"
        }
      ],
      "source": [
        "x = torch.arange(1, 10).reshape(1,3,3)\n",
        "x, x.shape"
      ]
    },
    {
      "cell_type": "code",
      "execution_count": null,
      "metadata": {
        "colab": {
          "base_uri": "https://localhost:8080/"
        },
        "id": "aRuVzDvr3rgE",
        "outputId": "f2519a34-d6c9-46e9-c689-5b9c756d879c"
      },
      "outputs": [
        {
          "data": {
            "text/plain": [
              "(tensor([[1, 2, 3],\n",
              "         [4, 5, 6],\n",
              "         [7, 8, 9]]),\n",
              " tensor([7, 8, 9]),\n",
              " tensor(1))"
            ]
          },
          "execution_count": 54,
          "metadata": {},
          "output_type": "execute_result"
        }
      ],
      "source": [
        "x[0], x[0][2], x[0][0][0]"
      ]
    },
    {
      "cell_type": "code",
      "execution_count": null,
      "metadata": {
        "colab": {
          "base_uri": "https://localhost:8080/"
        },
        "id": "b2ergGir3wvx",
        "outputId": "1b45e328-c55d-4dc9-d02c-f5168b498a02"
      },
      "outputs": [
        {
          "data": {
            "text/plain": [
              "tensor([2, 5, 8])"
            ]
          },
          "execution_count": 57,
          "metadata": {},
          "output_type": "execute_result"
        }
      ],
      "source": [
        "x[0][:, 1]"
      ]
    },
    {
      "cell_type": "code",
      "execution_count": null,
      "metadata": {
        "colab": {
          "base_uri": "https://localhost:8080/"
        },
        "id": "o3MMNGpk4DZd",
        "outputId": "489a07e4-2c71-4b9c-d9f9-2337b91186f2"
      },
      "outputs": [
        {
          "data": {
            "text/plain": [
              "tensor([5])"
            ]
          },
          "execution_count": 59,
          "metadata": {},
          "output_type": "execute_result"
        }
      ],
      "source": [
        "x[:, 1, 1]"
      ]
    },
    {
      "cell_type": "code",
      "execution_count": null,
      "metadata": {
        "colab": {
          "base_uri": "https://localhost:8080/"
        },
        "id": "thUkP9A_4u7O",
        "outputId": "17a2f6b8-3659-4a8a-f6de-5c8f2a1e547c"
      },
      "outputs": [
        {
          "data": {
            "text/plain": [
              "tensor([1, 2, 3])"
            ]
          },
          "execution_count": 60,
          "metadata": {},
          "output_type": "execute_result"
        }
      ],
      "source": [
        "x[0, 0, :]"
      ]
    },
    {
      "cell_type": "code",
      "execution_count": null,
      "metadata": {
        "colab": {
          "base_uri": "https://localhost:8080/"
        },
        "id": "_cqnCwb941_P",
        "outputId": "b842ea5e-4348-4ac3-bcf8-83e8f1904972"
      },
      "outputs": [
        {
          "data": {
            "text/plain": [
              "tensor(9)"
            ]
          },
          "execution_count": 61,
          "metadata": {},
          "output_type": "execute_result"
        }
      ],
      "source": [
        "x[0,2,2]"
      ]
    },
    {
      "cell_type": "code",
      "execution_count": null,
      "metadata": {
        "colab": {
          "base_uri": "https://localhost:8080/"
        },
        "id": "KBnVb8Zh5PjB",
        "outputId": "456dd6c7-b960-4237-d010-a12fdc96d84b"
      },
      "outputs": [
        {
          "data": {
            "text/plain": [
              "tensor([3, 6, 9])"
            ]
          },
          "execution_count": 62,
          "metadata": {},
          "output_type": "execute_result"
        }
      ],
      "source": [
        "x[0,:,2]"
      ]
    },
    {
      "cell_type": "code",
      "execution_count": 1,
      "metadata": {
        "colab": {
          "base_uri": "https://localhost:8080/"
        },
        "id": "qOQh5Ui55U0G",
        "outputId": "48cfaa22-089a-4240-83e6-7dc97f2ff074"
      },
      "outputs": [
        {
          "output_type": "execute_result",
          "data": {
            "text/plain": [
              "(array([1., 2., 3., 4., 5., 6., 7.]),\n",
              " dtype('float64'),\n",
              " tensor([1., 2., 3., 4., 5., 6., 7.]),\n",
              " torch.float32)"
            ]
          },
          "metadata": {},
          "execution_count": 1
        }
      ],
      "source": [
        "import torch\n",
        "import numpy as np\n",
        "array = np.arange(1.0, 8.0)\n",
        "tensor = torch.from_numpy(array).type(torch.float32)\n",
        "array, array.dtype, tensor, tensor.dtype"
      ]
    },
    {
      "cell_type": "code",
      "execution_count": 2,
      "metadata": {
        "colab": {
          "base_uri": "https://localhost:8080/"
        },
        "id": "noapW06R6nXH",
        "outputId": "9a6f6a29-5cd9-482e-c2f5-078502eab1e0"
      },
      "outputs": [
        {
          "output_type": "execute_result",
          "data": {
            "text/plain": [
              "(array([2., 3., 4., 5., 6., 7., 8.]), tensor([1., 2., 3., 4., 5., 6., 7.]))"
            ]
          },
          "metadata": {},
          "execution_count": 2
        }
      ],
      "source": [
        "array = array + 1\n",
        "array, tensor"
      ]
    },
    {
      "cell_type": "code",
      "execution_count": 3,
      "metadata": {
        "colab": {
          "base_uri": "https://localhost:8080/"
        },
        "id": "owHsi9uz7m5F",
        "outputId": "0de5f5d5-bfb8-498c-cf61-fed934b45796"
      },
      "outputs": [
        {
          "output_type": "execute_result",
          "data": {
            "text/plain": [
              "(array([1., 1., 1., 1., 1., 1., 1.], dtype=float32),\n",
              " tensor([1., 1., 1., 1., 1., 1., 1.]))"
            ]
          },
          "metadata": {},
          "execution_count": 3
        }
      ],
      "source": [
        "tensor = torch.ones(7)\n",
        "array_from_tensor = tensor.numpy()\n",
        "array_from_tensor, tensor"
      ]
    },
    {
      "cell_type": "code",
      "execution_count": 120,
      "metadata": {
        "colab": {
          "base_uri": "https://localhost:8080/"
        },
        "id": "9h-WED4V8sWh",
        "outputId": "2adc0c7c-1c69-4e5f-c635-f83fd473ee9b"
      },
      "outputs": [
        {
          "output_type": "execute_result",
          "data": {
            "text/plain": [
              "tensor([[False, False],\n",
              "        [False, False],\n",
              "        [False, False]])"
            ]
          },
          "metadata": {},
          "execution_count": 120
        }
      ],
      "source": [
        "random_tensor_A = torch.rand(3,2)\n",
        "random_tensor_B = torch.rand(3,2)\n",
        "random_tensor_A == random_tensor_B"
      ]
    },
    {
      "cell_type": "code",
      "source": [
        "import torch\n",
        "import random\n",
        "\n",
        "RANDOM_SEED = 42\n",
        "torch.manual_seed(RANDOM_SEED)\n",
        "random_tensor_C = torch.rand(3,4)\n",
        "\n",
        "torch.random.manual_seed(RANDOM_SEED)\n",
        "random_tensor_D = torch.rand(3,4)\n",
        "\n",
        "random_tensor_C, random_tensor_D, random_tensor_C == random_tensor_D"
      ],
      "metadata": {
        "colab": {
          "base_uri": "https://localhost:8080/"
        },
        "id": "rBFnn4rOAK67",
        "outputId": "fd398308-cdb3-40ad-9bcf-9a31ce76e67e"
      },
      "execution_count": 128,
      "outputs": [
        {
          "output_type": "execute_result",
          "data": {
            "text/plain": [
              "(tensor([[0.8823, 0.9150, 0.3829, 0.9593],\n",
              "         [0.3904, 0.6009, 0.2566, 0.7936],\n",
              "         [0.9408, 0.1332, 0.9346, 0.5936]]),\n",
              " tensor([[0.8823, 0.9150, 0.3829, 0.9593],\n",
              "         [0.3904, 0.6009, 0.2566, 0.7936],\n",
              "         [0.9408, 0.1332, 0.9346, 0.5936]]),\n",
              " tensor([[True, True, True, True],\n",
              "         [True, True, True, True],\n",
              "         [True, True, True, True]]))"
            ]
          },
          "metadata": {},
          "execution_count": 128
        }
      ]
    },
    {
      "cell_type": "code",
      "source": [
        "!nvidia-smi\n"
      ],
      "metadata": {
        "id": "8_owZ_qABbW9",
        "outputId": "9e3ce752-fd5b-4ed4-91e9-62e97a844c67",
        "colab": {
          "base_uri": "https://localhost:8080/"
        }
      },
      "execution_count": 5,
      "outputs": [
        {
          "output_type": "stream",
          "name": "stdout",
          "text": [
            "Tue Jul 25 03:16:58 2023       \n",
            "+-----------------------------------------------------------------------------+\n",
            "| NVIDIA-SMI 525.105.17   Driver Version: 525.105.17   CUDA Version: 12.0     |\n",
            "|-------------------------------+----------------------+----------------------+\n",
            "| GPU  Name        Persistence-M| Bus-Id        Disp.A | Volatile Uncorr. ECC |\n",
            "| Fan  Temp  Perf  Pwr:Usage/Cap|         Memory-Usage | GPU-Util  Compute M. |\n",
            "|                               |                      |               MIG M. |\n",
            "|===============================+======================+======================|\n",
            "|   0  Tesla T4            Off  | 00000000:00:04.0 Off |                    0 |\n",
            "| N/A   42C    P8    11W /  70W |      0MiB / 15360MiB |      0%      Default |\n",
            "|                               |                      |                  N/A |\n",
            "+-------------------------------+----------------------+----------------------+\n",
            "                                                                               \n",
            "+-----------------------------------------------------------------------------+\n",
            "| Processes:                                                                  |\n",
            "|  GPU   GI   CI        PID   Type   Process name                  GPU Memory |\n",
            "|        ID   ID                                                   Usage      |\n",
            "|=============================================================================|\n",
            "|  No running processes found                                                 |\n",
            "+-----------------------------------------------------------------------------+\n"
          ]
        }
      ]
    },
    {
      "cell_type": "code",
      "source": [
        "import torch\n",
        "torch.cuda.is_available()"
      ],
      "metadata": {
        "id": "MMH9ayCDCgfs",
        "outputId": "4df477f6-f83c-4bda-db3d-2db86e2498a6",
        "colab": {
          "base_uri": "https://localhost:8080/"
        }
      },
      "execution_count": 19,
      "outputs": [
        {
          "output_type": "execute_result",
          "data": {
            "text/plain": [
              "True"
            ]
          },
          "metadata": {},
          "execution_count": 19
        }
      ]
    },
    {
      "cell_type": "code",
      "source": [
        "device = \"cuda\" if torch.cuda.is_available() else \"cpu\"\n",
        "device"
      ],
      "metadata": {
        "id": "A3Kz0cfoDyUp",
        "outputId": "86c1662b-c7c5-4088-a6a0-ddaef1a69e1d",
        "colab": {
          "base_uri": "https://localhost:8080/",
          "height": 35
        }
      },
      "execution_count": 20,
      "outputs": [
        {
          "output_type": "execute_result",
          "data": {
            "text/plain": [
              "'cuda'"
            ],
            "application/vnd.google.colaboratory.intrinsic+json": {
              "type": "string"
            }
          },
          "metadata": {},
          "execution_count": 20
        }
      ]
    },
    {
      "cell_type": "code",
      "source": [
        "torch.cuda.device_count()"
      ],
      "metadata": {
        "id": "RGmTyCjvEGkU",
        "outputId": "4ee6daf1-d633-4f69-85e5-8b4353fe9547",
        "colab": {
          "base_uri": "https://localhost:8080/"
        }
      },
      "execution_count": 21,
      "outputs": [
        {
          "output_type": "execute_result",
          "data": {
            "text/plain": [
              "1"
            ]
          },
          "metadata": {},
          "execution_count": 21
        }
      ]
    },
    {
      "cell_type": "code",
      "source": [
        "tensor = torch.rand(3,3)\n",
        "tensor, tensor.device"
      ],
      "metadata": {
        "id": "bTMnVXtXEmC8",
        "outputId": "b6c9324a-5ea3-48e2-ed9c-7eb66d2bda35",
        "colab": {
          "base_uri": "https://localhost:8080/"
        }
      },
      "execution_count": 22,
      "outputs": [
        {
          "data": {
            "text/plain": [
              "(tensor([[0.7176, 0.3446, 0.1983],\n",
              "         [0.1464, 0.1978, 0.4107],\n",
              "         [0.3392, 0.5907, 0.5158]]),\n",
              " device(type='cpu'))"
            ]
          },
          "execution_count": 22,
          "metadata": {},
          "output_type": "execute_result"
        }
      ]
    },
    {
      "cell_type": "code",
      "source": [
        "tensor_on_gpu = tensor.to(device)\n",
        "tensor_on_gpu"
      ],
      "metadata": {
        "id": "exqo-WAmE0mJ",
        "outputId": "50d4510b-5df2-4e5a-c547-867bcefabf4f",
        "colab": {
          "base_uri": "https://localhost:8080/"
        }
      },
      "execution_count": 23,
      "outputs": [
        {
          "output_type": "execute_result",
          "data": {
            "text/plain": [
              "tensor([[0.7176, 0.3446, 0.1983],\n",
              "        [0.1464, 0.1978, 0.4107],\n",
              "        [0.3392, 0.5907, 0.5158]], device='cuda:0')"
            ]
          },
          "metadata": {},
          "execution_count": 23
        },
        {
          "output_type": "execute_result",
          "data": {
            "text/plain": [
              "tensor([[0.7176, 0.3446, 0.1983],\n",
              "        [0.1464, 0.1978, 0.4107],\n",
              "        [0.3392, 0.5907, 0.5158]], device='cuda:0')"
            ]
          },
          "metadata": {},
          "execution_count": 24
        }
      ]
    },
    {
      "cell_type": "code",
      "source": [
        "tensor_on_cpu = tensor_on_gpu.cpu()\n",
        "array = tensor_on_cpu.numpy()\n",
        "array"
      ],
      "metadata": {
        "id": "k7cO-LqhFanm",
        "outputId": "83a9f4de-f728-4f4a-f863-236a7b50707a",
        "colab": {
          "base_uri": "https://localhost:8080/"
        }
      },
      "execution_count": 26,
      "outputs": [
        {
          "data": {
            "text/plain": [
              "array([[0.71764034, 0.3446241 , 0.19825041],\n",
              "       [0.14639366, 0.19781256, 0.41067004],\n",
              "       [0.33918983, 0.59069467, 0.5158118 ]], dtype=float32)"
            ]
          },
          "execution_count": 26,
          "metadata": {},
          "output_type": "execute_result"
        }
      ]
    },
    {
      "cell_type": "code",
      "source": [
        "import torch\n",
        "import random\n",
        "random_tensor = torch.rand(7,7)\n",
        "random_tensor"
      ],
      "metadata": {
        "id": "yfhOYV1zGbyQ",
        "outputId": "d2881ac8-6233-443b-9d93-a2bd30e0f254",
        "colab": {
          "base_uri": "https://localhost:8080/"
        }
      },
      "execution_count": 2,
      "outputs": [
        {
          "output_type": "execute_result",
          "data": {
            "text/plain": [
              "tensor([[0.7513, 0.6387, 0.0367, 0.2979, 0.7530, 0.5603, 0.8907],\n",
              "        [0.4734, 0.4226, 0.3716, 0.2948, 0.0790, 0.4310, 0.6241],\n",
              "        [0.0968, 0.4913, 0.2516, 0.2792, 0.5240, 0.8021, 0.7107],\n",
              "        [0.4136, 0.2807, 0.8608, 0.7958, 0.6731, 0.7311, 0.3937],\n",
              "        [0.0013, 0.1982, 0.7105, 0.4927, 0.8050, 0.1050, 0.8299],\n",
              "        [0.3705, 0.7487, 0.5157, 0.3795, 0.0436, 0.6361, 0.3938],\n",
              "        [0.8449, 0.6074, 0.4022, 0.0536, 0.5216, 0.3848, 0.5900]])"
            ]
          },
          "metadata": {},
          "execution_count": 2
        }
      ]
    },
    {
      "cell_type": "code",
      "source": [
        "random_tensor_2 = torch.rand(1,7)\n",
        "torch.mm(random_tensor, random_tensor_2.T)"
      ],
      "metadata": {
        "id": "wURkNswcHOaO",
        "outputId": "a58f7368-f1fa-42ff-a23e-05e8fdf0106c",
        "colab": {
          "base_uri": "https://localhost:8080/"
        }
      },
      "execution_count": 37,
      "outputs": [
        {
          "output_type": "execute_result",
          "data": {
            "text/plain": [
              "tensor([[1.1061],\n",
              "        [0.9868],\n",
              "        [1.8999],\n",
              "        [0.7716],\n",
              "        [1.3174],\n",
              "        [1.6353],\n",
              "        [1.7395]])"
            ]
          },
          "metadata": {},
          "execution_count": 37
        }
      ]
    },
    {
      "cell_type": "code",
      "source": [
        "RANDOM_SEED = 0\n",
        "torch.manual_seed(RANDOM_SEED)\n",
        "random_tensor = torch.rand(7,7)\n",
        "torch.random.manual_seed(RANDOM_SEED)\n",
        "random_tensor_2 = torch.rand(1,7)\n",
        "torch.mm(random_tensor, random_tensor_2.T), torch.mm(random_tensor, random_tensor_2.T).shape"
      ],
      "metadata": {
        "id": "W6lPq2gCHh83",
        "outputId": "69ba7546-3d38-4dbb-d790-3c3b28867daa",
        "colab": {
          "base_uri": "https://localhost:8080/"
        }
      },
      "execution_count": 38,
      "outputs": [
        {
          "output_type": "execute_result",
          "data": {
            "text/plain": [
              "(tensor([[1.5985],\n",
              "         [1.1173],\n",
              "         [1.2741],\n",
              "         [1.6838],\n",
              "         [0.8279],\n",
              "         [1.0347],\n",
              "         [1.2498]]),\n",
              " torch.Size([7, 1]))"
            ]
          },
          "metadata": {},
          "execution_count": 38
        }
      ]
    },
    {
      "cell_type": "code",
      "source": [
        "torch.cuda.manual_seed(1234)\n",
        "tensor1 = torch.rand((2,3), device='cuda')\n",
        "torch.random.manual_seed(1234)\n",
        "tensor2 = torch.rand((2,3), device='cuda')\n",
        "tensor1, tensor2"
      ],
      "metadata": {
        "id": "c8Abw3_CIsC8",
        "outputId": "652ed173-7e16-4d1a-d859-ed6761acddb8",
        "colab": {
          "base_uri": "https://localhost:8080/"
        }
      },
      "execution_count": 7,
      "outputs": [
        {
          "output_type": "execute_result",
          "data": {
            "text/plain": [
              "(tensor([[0.1272, 0.8167, 0.5440],\n",
              "         [0.6601, 0.2721, 0.9737]], device='cuda:0'),\n",
              " tensor([[0.1272, 0.8167, 0.5440],\n",
              "         [0.6601, 0.2721, 0.9737]], device='cuda:0'))"
            ]
          },
          "metadata": {},
          "execution_count": 7
        }
      ]
    },
    {
      "cell_type": "code",
      "source": [
        "multi_tensor = torch.mm(tensor1, tensor2.T)\n",
        "multi_tensor, torch.mm(tensor1, tensor2.T).shape"
      ],
      "metadata": {
        "id": "edVl-e6BcsoK",
        "outputId": "f0f55411-3756-4049-a688-ce9bf056fcb6",
        "colab": {
          "base_uri": "https://localhost:8080/"
        }
      },
      "execution_count": 10,
      "outputs": [
        {
          "output_type": "execute_result",
          "data": {
            "text/plain": [
              "(tensor([[0.9792, 0.8358],\n",
              "         [0.8358, 1.4578]], device='cuda:0'),\n",
              " torch.Size([2, 2]))"
            ]
          },
          "metadata": {},
          "execution_count": 10
        }
      ]
    },
    {
      "cell_type": "code",
      "source": [
        "multi_tensor.max(), multi_tensor.min()"
      ],
      "metadata": {
        "id": "0mMFY9MydOq0",
        "outputId": "f22afa16-a3d9-4c47-ce0c-88d1e9a1ef6e",
        "colab": {
          "base_uri": "https://localhost:8080/"
        }
      },
      "execution_count": 11,
      "outputs": [
        {
          "output_type": "execute_result",
          "data": {
            "text/plain": [
              "(tensor(1.4578, device='cuda:0'), tensor(0.8358, device='cuda:0'))"
            ]
          },
          "metadata": {},
          "execution_count": 11
        }
      ]
    },
    {
      "cell_type": "code",
      "source": [
        "multi_tensor.argmax(), multi_tensor.argmin()"
      ],
      "metadata": {
        "id": "PPAzpaesdwbQ",
        "outputId": "558fe4d2-fe38-4eb6-b966-d2cde781e4d3",
        "colab": {
          "base_uri": "https://localhost:8080/"
        }
      },
      "execution_count": 12,
      "outputs": [
        {
          "output_type": "execute_result",
          "data": {
            "text/plain": [
              "(tensor(3, device='cuda:0'), tensor(1, device='cuda:0'))"
            ]
          },
          "metadata": {},
          "execution_count": 12
        }
      ]
    },
    {
      "cell_type": "code",
      "source": [
        "torch.manual_seed(7)\n",
        "rand_tensor = torch.rand((1,1,1,10))\n",
        "rand_tensor_squeezed = rand_tensor.squeeze()\n",
        "rand_tensor, rand_tensor.shape, rand_tensor_squeezed, rand_tensor_squeezed.shape"
      ],
      "metadata": {
        "id": "LND71pkAd3Jx",
        "outputId": "5f3febed-9e5f-484f-c18d-84832588b879",
        "colab": {
          "base_uri": "https://localhost:8080/"
        }
      },
      "execution_count": 13,
      "outputs": [
        {
          "output_type": "execute_result",
          "data": {
            "text/plain": [
              "(tensor([[[[0.5349, 0.1988, 0.6592, 0.6569, 0.2328, 0.4251, 0.2071, 0.6297,\n",
              "            0.3653, 0.8513]]]]),\n",
              " torch.Size([1, 1, 1, 10]),\n",
              " tensor([0.5349, 0.1988, 0.6592, 0.6569, 0.2328, 0.4251, 0.2071, 0.6297, 0.3653,\n",
              "         0.8513]),\n",
              " torch.Size([10]))"
            ]
          },
          "metadata": {},
          "execution_count": 13
        }
      ]
    },
    {
      "cell_type": "code",
      "source": [],
      "metadata": {
        "id": "B74C9RGGelwn"
      },
      "execution_count": null,
      "outputs": []
    }
  ],
  "metadata": {
    "colab": {
      "provenance": [],
      "gpuType": "T4",
      "authorship_tag": "ABX9TyOyVOmF5qfgN+JrzBFKvRb0",
      "include_colab_link": true
    },
    "kernelspec": {
      "display_name": "Python 3",
      "name": "python3"
    },
    "language_info": {
      "name": "python"
    },
    "accelerator": "GPU"
  },
  "nbformat": 4,
  "nbformat_minor": 0
}